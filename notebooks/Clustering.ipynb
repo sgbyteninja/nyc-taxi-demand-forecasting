{
 "cells": [
  {
   "cell_type": "markdown",
   "metadata": {},
   "source": [
    "This notebook performs clustering on taxi GPS data to identify key areas with high demand. Using MiniBatchKMeans for efficiency with large data, it finds cluster centers and assigns trips accordingly. Results will support demand prediction and resource planning."
   ]
  },
  {
   "cell_type": "markdown",
   "metadata": {},
   "source": [
    "# Imports"
   ]
  },
  {
   "cell_type": "code",
   "execution_count": 2,
   "metadata": {},
   "outputs": [
    {
     "name": "stderr",
     "output_type": "stream",
     "text": [
      "/Users/sandragedig/Documents/Dokumente/Data_Science/Semester_6/Model_Engineering_Case_Study/venv/lib/python3.9/site-packages/urllib3/__init__.py:35: NotOpenSSLWarning: urllib3 v2 only supports OpenSSL 1.1.1+, currently the 'ssl' module is compiled with 'LibreSSL 2.8.3'. See: https://github.com/urllib3/urllib3/issues/3020\n",
      "  warnings.warn(\n"
     ]
    }
   ],
   "source": [
    "import pandas as pd\n",
    "import numpy as np\n",
    "import matplotlib.pyplot as plt\n",
    "import matplotlib.patches as mpatches\n",
    "import matplotlib.cm as cm\n",
    "import matplotlib.colors as mcolors\n",
    "import seaborn as sns\n",
    "from sklearn.linear_model import LinearRegression\n",
    "from sklearn.preprocessing import PolynomialFeatures\n",
    "from sklearn.cluster import MiniBatchKMeans\n",
    "import folium\n",
    "from folium.plugins import MarkerCluster\n",
    "import pyproj\n",
    "from pyproj import Transformer\n",
    "from sklearn.metrics import silhouette_score\n",
    "import os\n",
    "import utm\n",
    "import geopandas as gpd\n",
    "from shapely.geometry import Point\n",
    "from datetime import datetime\n",
    "from meteostat import Hourly, Stations"
   ]
  },
  {
   "cell_type": "markdown",
   "metadata": {},
   "source": [
    "# Clustering"
   ]
  },
  {
   "cell_type": "markdown",
   "metadata": {},
   "source": [
    "## 1. Loading the combined data-set"
   ]
  },
  {
   "cell_type": "code",
   "execution_count": 4,
   "metadata": {},
   "outputs": [
    {
     "name": "stdout",
     "output_type": "stream",
     "text": [
      "Loaded dataset with 4534327 rows and 4 columns.\n",
      "messagetimestamp    datetime64[ns]\n",
      "Lat                        float64\n",
      "Lon                        float64\n",
      "Base                        object\n",
      "dtype: object\n"
     ]
    },
    {
     "data": {
      "text/html": [
       "<div>\n",
       "<style scoped>\n",
       "    .dataframe tbody tr th:only-of-type {\n",
       "        vertical-align: middle;\n",
       "    }\n",
       "\n",
       "    .dataframe tbody tr th {\n",
       "        vertical-align: top;\n",
       "    }\n",
       "\n",
       "    .dataframe thead th {\n",
       "        text-align: right;\n",
       "    }\n",
       "</style>\n",
       "<table border=\"1\" class=\"dataframe\">\n",
       "  <thead>\n",
       "    <tr style=\"text-align: right;\">\n",
       "      <th></th>\n",
       "      <th>messagetimestamp</th>\n",
       "      <th>Lat</th>\n",
       "      <th>Lon</th>\n",
       "      <th>Base</th>\n",
       "    </tr>\n",
       "  </thead>\n",
       "  <tbody>\n",
       "    <tr>\n",
       "      <th>0</th>\n",
       "      <td>2014-04-01 00:11:00</td>\n",
       "      <td>40.7690</td>\n",
       "      <td>-73.9549</td>\n",
       "      <td>B02512</td>\n",
       "    </tr>\n",
       "    <tr>\n",
       "      <th>1</th>\n",
       "      <td>2014-04-01 00:17:00</td>\n",
       "      <td>40.7267</td>\n",
       "      <td>-74.0345</td>\n",
       "      <td>B02512</td>\n",
       "    </tr>\n",
       "    <tr>\n",
       "      <th>2</th>\n",
       "      <td>2014-04-01 00:21:00</td>\n",
       "      <td>40.7316</td>\n",
       "      <td>-73.9873</td>\n",
       "      <td>B02512</td>\n",
       "    </tr>\n",
       "  </tbody>\n",
       "</table>\n",
       "</div>"
      ],
      "text/plain": [
       "     messagetimestamp      Lat      Lon    Base\n",
       "0 2014-04-01 00:11:00  40.7690 -73.9549  B02512\n",
       "1 2014-04-01 00:17:00  40.7267 -74.0345  B02512\n",
       "2 2014-04-01 00:21:00  40.7316 -73.9873  B02512"
      ]
     },
     "execution_count": 4,
     "metadata": {},
     "output_type": "execute_result"
    }
   ],
   "source": [
    "# Loading the combined dataframe \n",
    "\n",
    "# Path to the Pickle file\n",
    "data_path = \"../data/interim/combined_data.pkl\"\n",
    "\n",
    "# Loading the dataframe\n",
    "combined_data = pd.read_pickle(data_path)\n",
    "\n",
    "# Checking the data\n",
    "print(f\"Loaded dataset with {combined_data.shape[0]} rows and {combined_data.shape[1]} columns.\")\n",
    "print(combined_data.dtypes)\n",
    "combined_data.head(3)"
   ]
  },
  {
   "cell_type": "markdown",
   "metadata": {},
   "source": [
    "## 2. Converting the GPS coordinates to UTM"
   ]
  },
  {
   "cell_type": "code",
   "execution_count": 5,
   "metadata": {},
   "outputs": [],
   "source": [
    "# Convert GPS coordinates (Lat, Lon) to UTM\n",
    "# UTM provides coordinates in meters, \n",
    "# which is more suitable for distance-based algorithms like KMeans.\n",
    "combined_data[['UTM_X', 'UTM_Y']] = combined_data.apply(\n",
    "    lambda row: pd.Series(utm.from_latlon(row['Lat'], row['Lon'])[:2]),\n",
    "    axis=1\n",
    ")"
   ]
  },
  {
   "cell_type": "code",
   "execution_count": 6,
   "metadata": {},
   "outputs": [],
   "source": [
    "# save the transformed data to avoid long running times\n",
    "combined_data_with_utm = combined_data\n",
    "\n",
    "# Path for saving the df\n",
    "save_path = \"../data/interim/combined_data_with_utm.pkl\"\n",
    "\n",
    "# safe the df\n",
    "combined_data_with_utm.to_pickle(save_path)"
   ]
  },
  {
   "cell_type": "markdown",
   "metadata": {},
   "source": [
    "## 3. Take a random sample to test different numbers of clusters"
   ]
  },
  {
   "cell_type": "code",
   "execution_count": 7,
   "metadata": {},
   "outputs": [],
   "source": [
    "# Take a random sample to test different numbers of clusters\n",
    "# Running KMeans on 4.5 million points for many values of k would be too slow.\n",
    "# We sample 100,000 points for efficiency.\n",
    "sample = combined_data[['UTM_X', 'UTM_Y']].sample(50000, random_state=42)"
   ]
  },
  {
   "cell_type": "markdown",
   "metadata": {},
   "source": [
    "## 4. Find the optimal number of clusters"
   ]
  },
  {
   "cell_type": "code",
   "execution_count": 8,
   "metadata": {},
   "outputs": [],
   "source": [
    "# Compute silhouette scores for different cluster numbers\n",
    "# Silhouette Score helps to determine how well-separated the clusters are.\n",
    "# A higher score indicates better clustering.\n",
    "scores = []\n",
    "K_range = range(10, 21)\n",
    "\n",
    "for k in K_range:\n",
    "    kmeans = MiniBatchKMeans(n_clusters=k, batch_size=5000, random_state=42)\n",
    "    labels = kmeans.fit_predict(sample)\n",
    "    score = silhouette_score(sample, labels)\n",
    "    scores.append(score)"
   ]
  },
  {
   "cell_type": "code",
   "execution_count": 9,
   "metadata": {},
   "outputs": [
    {
     "data": {
      "image/png": "[encoded data removed]",
      "text/plain": [
       "<Figure size 640x480 with 1 Axes>"
      ]
     },
     "metadata": {},
     "output_type": "display_data"
    }
   ],
   "source": [
    "# Plot silhouette scores\n",
    "plt.plot(K_range, scores, marker='o')\n",
    "plt.xlabel('Number of Clusters (k)')\n",
    "plt.ylabel('Silhouette Score')\n",
    "plt.title('Choosing Optimal k using MiniBatchKMeans')\n",
    "plt.grid(True)\n",
    "plt.show()"
   ]
  },
  {
   "cell_type": "markdown",
   "metadata": {},
   "source": [
    "The number of clusters is set to 11, as it resulted in the highest silhouette score, indicating optimal cluster separation and cohesion. "
   ]
  },
  {
   "cell_type": "markdown",
   "metadata": {},
   "source": [
    "## 5. Clustering the full dataset with MiniBatchKmeans"
   ]
  },
  {
   "cell_type": "code",
   "execution_count": 10,
   "metadata": {},
   "outputs": [],
   "source": [
    "# Run MiniBatchKMeans on the full dataset with the optimal number of clusters\n",
    "optimal_k = 11\n",
    "full_kmeans = MiniBatchKMeans(n_clusters=optimal_k, batch_size=10000, random_state=42)\n",
    "combined_data['geo_cluster'] = full_kmeans.fit_predict(combined_data[['UTM_X', 'UTM_Y']])"
   ]
  },
  {
   "cell_type": "code",
   "execution_count": 11,
   "metadata": {},
   "outputs": [
    {
     "data": {
      "text/html": [
       "<div>\n",
       "<style scoped>\n",
       "    .dataframe tbody tr th:only-of-type {\n",
       "        vertical-align: middle;\n",
       "    }\n",
       "\n",
       "    .dataframe tbody tr th {\n",
       "        vertical-align: top;\n",
       "    }\n",
       "\n",
       "    .dataframe thead th {\n",
       "        text-align: right;\n",
       "    }\n",
       "</style>\n",
       "<table border=\"1\" class=\"dataframe\">\n",
       "  <thead>\n",
       "    <tr style=\"text-align: right;\">\n",
       "      <th></th>\n",
       "      <th>messagetimestamp</th>\n",
       "      <th>Lat</th>\n",
       "      <th>Lon</th>\n",
       "      <th>Base</th>\n",
       "      <th>UTM_X</th>\n",
       "      <th>UTM_Y</th>\n",
       "      <th>geo_cluster</th>\n",
       "    </tr>\n",
       "  </thead>\n",
       "  <tbody>\n",
       "    <tr>\n",
       "      <th>0</th>\n",
       "      <td>2014-04-01 00:11:00</td>\n",
       "      <td>40.7690</td>\n",
       "      <td>-73.9549</td>\n",
       "      <td>B02512</td>\n",
       "      <td>588201.388855</td>\n",
       "      <td>4.513640e+06</td>\n",
       "      <td>2</td>\n",
       "    </tr>\n",
       "    <tr>\n",
       "      <th>1</th>\n",
       "      <td>2014-04-01 00:17:00</td>\n",
       "      <td>40.7267</td>\n",
       "      <td>-74.0345</td>\n",
       "      <td>B02512</td>\n",
       "      <td>581535.087804</td>\n",
       "      <td>4.508867e+06</td>\n",
       "      <td>0</td>\n",
       "    </tr>\n",
       "  </tbody>\n",
       "</table>\n",
       "</div>"
      ],
      "text/plain": [
       "     messagetimestamp      Lat      Lon    Base          UTM_X         UTM_Y  \\\n",
       "0 2014-04-01 00:11:00  40.7690 -73.9549  B02512  588201.388855  4.513640e+06   \n",
       "1 2014-04-01 00:17:00  40.7267 -74.0345  B02512  581535.087804  4.508867e+06   \n",
       "\n",
       "   geo_cluster  \n",
       "0            2  \n",
       "1            0  "
      ]
     },
     "execution_count": 11,
     "metadata": {},
     "output_type": "execute_result"
    }
   ],
   "source": [
    "combined_data.head(2)"
   ]
  },
  {
   "cell_type": "markdown",
   "metadata": {},
   "source": [
    "## 6. Choosing the 10 most important clusters"
   ]
  },
  {
   "cell_type": "code",
   "execution_count": null,
   "metadata": {},
   "outputs": [
    {
     "data": {
      "image/png": "[encoded data removed]",
      "text/plain": [
       "<Figure size 1200x600 with 1 Axes>"
      ]
     },
     "metadata": {},
     "output_type": "display_data"
    }
   ],
   "source": [
    "# Identify top 10 clusters by number of rides\n",
    "top_clusters = (\n",
    "    combined_data['geo_cluster']\n",
    "    .value_counts()\n",
    "    .nlargest(10)\n",
    "    .index\n",
    "    .tolist()\n",
    ")\n",
    "\n",
    "# Filter dataset to include only these top clusters\n",
    "top_combined_data = combined_data[combined_data['geo_cluster'].isin(top_clusters)].copy()\n",
    "\n",
    "# Convert to datetime and extract hour\n",
    "top_combined_data['messagetimestamp'] = pd.to_datetime(top_combined_data['messagetimestamp'])\n",
    "top_combined_data['hour'] = top_combined_data['messagetimestamp'].dt.hour\n",
    "\n",
    "# Remap cluster IDs to consecutive integers starting from 0\n",
    "top_combined_data['cluster_idx'] = top_combined_data['geo_cluster'].astype('category').cat.codes\n",
    "\n",
    "# Group by remapped cluster_idx and hour\n",
    "hourly_counts = (\n",
    "    top_combined_data.groupby(['cluster_idx', 'hour'])\n",
    "    .size()\n",
    "    .reset_index(name='rides_per_hour')\n",
    ")\n",
    "\n",
    "# Plot using remapped cluster_idx as hue\n",
    "plt.figure(figsize=(12, 6))\n",
    "sns.lineplot(\n",
    "    data=hourly_counts,\n",
    "    x='hour',\n",
    "    y='rides_per_hour',\n",
    "    hue='cluster_idx',  \n",
    "    palette='tab10'\n",
    ")\n",
    "plt.title('Average Taxi Demand per Hour in Top 10 Clusters')\n",
    "plt.xlabel('Hour of Day')\n",
    "plt.ylabel('Number of Rides')\n",
    "plt.grid(True)\n",
    "plt.tight_layout()\n",
    "plt.show()\n",
    "\n"
   ]
  },
  {
   "cell_type": "code",
   "execution_count": 13,
   "metadata": {},
   "outputs": [
    {
     "data": {
      "text/html": [
       "<div>\n",
       "<style scoped>\n",
       "    .dataframe tbody tr th:only-of-type {\n",
       "        vertical-align: middle;\n",
       "    }\n",
       "\n",
       "    .dataframe tbody tr th {\n",
       "        vertical-align: top;\n",
       "    }\n",
       "\n",
       "    .dataframe thead th {\n",
       "        text-align: right;\n",
       "    }\n",
       "</style>\n",
       "<table border=\"1\" class=\"dataframe\">\n",
       "  <thead>\n",
       "    <tr style=\"text-align: right;\">\n",
       "      <th></th>\n",
       "      <th>messagetimestamp</th>\n",
       "      <th>Lat</th>\n",
       "      <th>Lon</th>\n",
       "      <th>Base</th>\n",
       "      <th>UTM_X</th>\n",
       "      <th>UTM_Y</th>\n",
       "      <th>geo_cluster</th>\n",
       "      <th>hour</th>\n",
       "      <th>cluster_idx</th>\n",
       "    </tr>\n",
       "  </thead>\n",
       "  <tbody>\n",
       "    <tr>\n",
       "      <th>0</th>\n",
       "      <td>2014-04-01 00:11:00</td>\n",
       "      <td>40.7690</td>\n",
       "      <td>-73.9549</td>\n",
       "      <td>B02512</td>\n",
       "      <td>588201.388855</td>\n",
       "      <td>4.513640e+06</td>\n",
       "      <td>2</td>\n",
       "      <td>0</td>\n",
       "      <td>2</td>\n",
       "    </tr>\n",
       "    <tr>\n",
       "      <th>1</th>\n",
       "      <td>2014-04-01 00:17:00</td>\n",
       "      <td>40.7267</td>\n",
       "      <td>-74.0345</td>\n",
       "      <td>B02512</td>\n",
       "      <td>581535.087804</td>\n",
       "      <td>4.508867e+06</td>\n",
       "      <td>0</td>\n",
       "      <td>0</td>\n",
       "      <td>0</td>\n",
       "    </tr>\n",
       "  </tbody>\n",
       "</table>\n",
       "</div>"
      ],
      "text/plain": [
       "     messagetimestamp      Lat      Lon    Base          UTM_X         UTM_Y  \\\n",
       "0 2014-04-01 00:11:00  40.7690 -73.9549  B02512  588201.388855  4.513640e+06   \n",
       "1 2014-04-01 00:17:00  40.7267 -74.0345  B02512  581535.087804  4.508867e+06   \n",
       "\n",
       "   geo_cluster  hour  cluster_idx  \n",
       "0            2     0            2  \n",
       "1            0     0            0  "
      ]
     },
     "execution_count": 13,
     "metadata": {},
     "output_type": "execute_result"
    }
   ],
   "source": [
    "top_combined_data.head(2)"
   ]
  },
  {
   "cell_type": "code",
   "execution_count": 14,
   "metadata": {},
   "outputs": [],
   "source": [
    "# Drop the old 'geo_cluster' column\n",
    "top_combined_data = top_combined_data.drop(columns=['geo_cluster'])\n",
    "\n",
    "# Rename 'cluster_idx' to 'geo_cluster'\n",
    "top_combined_data = top_combined_data.rename(columns={'cluster_idx': 'geo_cluster'})"
   ]
  },
  {
   "cell_type": "code",
   "execution_count": 15,
   "metadata": {},
   "outputs": [
    {
     "name": "stdout",
     "output_type": "stream",
     "text": [
      "   geo_cluster    count\n",
      "0            7  1490530\n",
      "1            0   935912\n",
      "2            2   585577\n",
      "3            8   564776\n",
      "4            5   271474\n",
      "5            9   206754\n",
      "6            1   156573\n",
      "7            4   133041\n",
      "8            6   102472\n",
      "9            3    44512\n"
     ]
    }
   ],
   "source": [
    "counts_df = top_combined_data['geo_cluster'].value_counts().reset_index()\n",
    "counts_df.columns = ['geo_cluster', 'count']\n",
    "print(counts_df)"
   ]
  },
  {
   "cell_type": "code",
   "execution_count": 16,
   "metadata": {},
   "outputs": [],
   "source": [
    "# Path for saving the pickle\n",
    "save_path = \"../data/interim/top_combined_data.pkl\"\n",
    "\n",
    "# Save the data as pickle file\n",
    "top_combined_data.to_pickle(save_path)"
   ]
  },
  {
   "cell_type": "markdown",
   "metadata": {},
   "source": [
    "## 7. Interactive Map for the Visualization of the Clusters on the Map of New York City"
   ]
  },
  {
   "cell_type": "code",
   "execution_count": 17,
   "metadata": {},
   "outputs": [
    {
     "name": "stderr",
     "output_type": "stream",
     "text": [
      "FutureWarning: DataFrameGroupBy.apply operated on the grouping columns. This behavior is deprecated, and in a future version of pandas the grouping columns will be excluded from the operation. Either pass `include_groups=False` to exclude the groupings or explicitly select the grouping columns after groupby to silence this warning.\n"
     ]
    }
   ],
   "source": [
    "# The original dataset contains over 4.5 million data points, which is too large for direct visualization.\n",
    "# To maintain the spatial distribution of the clusters while reducing the data size,\n",
    "# Sample 1% of the points from each cluster (only if the cluster has more than 100 points).\n",
    "# This ensures a representative subset that keeps the original cluster proportions.\n",
    "sample_frac = 0.01\n",
    "\n",
    "# Sample from each cluster (only if cluster has more than 100 points)\n",
    "sampled = top_combined_data.groupby('geo_cluster', group_keys=False).apply(\n",
    "    lambda x: x.sample(frac=sample_frac, random_state=42) if len(x) > 100 else x\n",
    ").reset_index(drop=True)"
   ]
  },
  {
   "cell_type": "code",
   "execution_count": 18,
   "metadata": {},
   "outputs": [],
   "source": [
    "sorted_clusters = sorted(top_combined_data['geo_cluster'].unique())"
   ]
  },
  {
   "cell_type": "code",
   "execution_count": 19,
   "metadata": {},
   "outputs": [
    {
     "name": "stdout",
     "output_type": "stream",
     "text": [
      "Original Cluster counts (ordered):\n",
      "geo_cluster\n",
      "0    0.208368\n",
      "1    0.034859\n",
      "2    0.130371\n",
      "3    0.009910\n",
      "4    0.029620\n",
      "5    0.060440\n",
      "6    0.022814\n",
      "7    0.331847\n",
      "8    0.125740\n",
      "9    0.046031\n",
      "Name: proportion, dtype: float64\n",
      "\n",
      "Sampled Cluster counts (ordered):\n",
      "geo_cluster\n",
      "0    0.208362\n",
      "1    0.034864\n",
      "2    0.130374\n",
      "3    0.009907\n",
      "4    0.029610\n",
      "5    0.060445\n",
      "6    0.022820\n",
      "7    0.331834\n",
      "8    0.125743\n",
      "9    0.046040\n",
      "Name: proportion, dtype: float64\n"
     ]
    }
   ],
   "source": [
    "# Verifying that the sample preserves the original distribution of clusters\n",
    "# Get sorted unique cluster IDs from both datasets\n",
    "sorted_clusters = sorted(top_combined_data['geo_cluster'].unique())\n",
    "\n",
    "print(\"Original Cluster counts (ordered):\")\n",
    "print(top_combined_data['geo_cluster'].value_counts(normalize=True, sort=False).reindex(sorted_clusters))\n",
    "\n",
    "print(\"\\nSampled Cluster counts (ordered):\")\n",
    "print(sampled['geo_cluster'].value_counts(normalize=True, sort=False).reindex(sorted_clusters))\n"
   ]
  },
  {
   "cell_type": "code",
   "execution_count": 20,
   "metadata": {},
   "outputs": [
    {
     "name": "stderr",
     "output_type": "stream",
     "text": [
      "MatplotlibDeprecationWarning: The get_cmap function was deprecated in Matplotlib 3.7 and will be removed in 3.11. Use ``matplotlib.colormaps[name]`` or ``matplotlib.colormaps.get_cmap()`` or ``pyplot.get_cmap()`` instead.\n"
     ]
    },
    {
     "name": "stdout",
     "output_type": "stream",
     "text": [
      "Map saved to: ../docs/nyc_clustered_sample_map.html\n"
     ]
    }
   ],
   "source": [
    "# Get colors from Matplotlib's Tab10 colormap (for 10 clusters)\n",
    "colors = plt.cm.get_cmap('tab10', 10).colors\n",
    "\n",
    "# Convert RGB to Hex because Folium expects hex colors\n",
    "def rgb_to_hex(rgb):\n",
    "    return '#{:02x}{:02x}{:02x}'.format(int(rgb[0]*255), int(rgb[1]*255), int(rgb[2]*255))\n",
    "\n",
    "hex_colors = [rgb_to_hex(c) for c in colors]\n",
    "\n",
    "# Center the map on the mean coordinates of the sample points\n",
    "map_center = sampled[['Lat', 'Lon']].mean().values.tolist()\n",
    "interactive_map = folium.Map(location=map_center, zoom_start=11)\n",
    "\n",
    "# Add markers for all sample points with cluster-specific colors\n",
    "for _, row in sampled.iterrows():\n",
    "    cluster_id = int(row['geo_cluster'])\n",
    "    folium.CircleMarker(\n",
    "        location=[row['Lat'], row['Lon']],\n",
    "        radius=3,\n",
    "        color=hex_colors[cluster_id],\n",
    "        fill=True,\n",
    "        fill_opacity=0.6\n",
    "    ).add_to(interactive_map)\n",
    "\n",
    "# Define output path\n",
    "output_path = output_path = \"../docs/nyc_clustered_sample_map.html\"\n",
    "\n",
    "# Save the map\n",
    "interactive_map.save(output_path)\n",
    "print(f\"Map saved to: {output_path}\")"
   ]
  },
  {
   "cell_type": "markdown",
   "metadata": {},
   "source": [
    "## 8. Splitting the combined dataset into the 10 most important cluster datasets"
   ]
  },
  {
   "cell_type": "code",
   "execution_count": 21,
   "metadata": {},
   "outputs": [],
   "source": [
    "# Split top_combined_data into individual DataFrames per geo_cluster\n",
    "\n",
    "for cluster_id in sorted(top_combined_data[\"geo_cluster\"].unique()):\n",
    "    # Dynamically create variables like cluster_0, cluster_1, etc.\n",
    "    globals()[f\"cluster_{cluster_id}\"] = top_combined_data[top_combined_data[\"geo_cluster\"] == cluster_id].copy()"
   ]
  },
  {
   "cell_type": "markdown",
   "metadata": {},
   "source": [
    "## 9. Analysing the dominant boroughs for each geo-cluster"
   ]
  },
  {
   "cell_type": "code",
   "execution_count": 22,
   "metadata": {},
   "outputs": [
    {
     "name": "stdout",
     "output_type": "stream",
     "text": [
      "Dominant boroughs per cluster:\n",
      "   geo_cluster       BoroName    count\n",
      "0            0      Manhattan   899998\n",
      "1            1         Queens   152242\n",
      "2            2      Manhattan   544725\n",
      "3            3  Staten Island      386\n",
      "4            4         Queens   119097\n",
      "5            5       Brooklyn   269697\n",
      "6            6       Brooklyn    94101\n",
      "7            7      Manhattan  1461210\n",
      "8            8      Manhattan   529562\n",
      "9            9       Brooklyn   194712\n"
     ]
    }
   ],
   "source": [
    "# Load borough boundaries GeoJSON\n",
    "boroughs = gpd.read_file('/Users/sandragedig/Documents/Dokumente/Data_Science/Semester_6/Model_Engineering_Case_Study/public_transport_forecast/data/raw/NYC_Borough_Boundary_5648926780594355063.geojson')\n",
    "\n",
    "# Convert your DataFrame to GeoDataFrame with Point geometry\n",
    "geometry = [Point(xy) for xy in zip(top_combined_data['Lon'], top_combined_data['Lat'])]\n",
    "taxi_gdf = gpd.GeoDataFrame(top_combined_data, geometry=geometry, crs='EPSG:4326')\n",
    "\n",
    "# Spatial join to assign borough to each taxi point\n",
    "taxi_with_borough = gpd.sjoin(taxi_gdf, boroughs[['BoroName', 'geometry']], how='left', predicate='within')\n",
    "\n",
    "# Group by cluster and borough, count points\n",
    "cluster_borough_counts = taxi_with_borough.groupby(['geo_cluster', 'BoroName']).size().reset_index(name='count')\n",
    "\n",
    "# Find the borough with maximum count per cluster (dominant borough)\n",
    "idx = cluster_borough_counts.groupby('geo_cluster')['count'].idxmax()\n",
    "dominant_boroughs = cluster_borough_counts.loc[idx].reset_index(drop=True)\n",
    "\n",
    "# Print dominant boroughs per cluster\n",
    "print(\"Dominant boroughs per cluster:\")\n",
    "print(dominant_boroughs)\n",
    "\n",
    "# Merge dominant borough info back to original DataFrame for all points by cluster\n",
    "top_combined_data = top_combined_data.merge(dominant_boroughs[['geo_cluster', 'BoroName']], on='geo_cluster', how='left')\n",
    "\n",
    "# Rename column for clarity\n",
    "top_combined_data.rename(columns={'BoroName': 'dominant_borough'}, inplace=True)"
   ]
  },
  {
   "cell_type": "code",
   "execution_count": 23,
   "metadata": {},
   "outputs": [
    {
     "data": {
      "image/png": "[encoded data removed]",
      "text/plain": [
       "<Figure size 800x500 with 1 Axes>"
      ]
     },
     "metadata": {},
     "output_type": "display_data"
    }
   ],
   "source": [
    "# Count number of points per geo cluster\n",
    "cluster_sizes = top_combined_data['geo_cluster'].value_counts().sort_index()\n",
    "\n",
    "# Plot bar chart\n",
    "plt.figure(figsize=(8, 5))\n",
    "cluster_sizes.plot(kind='bar', color='steelblue')\n",
    "plt.xlabel('Geo Cluster')\n",
    "plt.ylabel('Number of Data Points')\n",
    "plt.title('Size of Each Geo Cluster')\n",
    "plt.xticks(rotation=0)\n",
    "plt.tight_layout()\n",
    "plt.show()"
   ]
  },
  {
   "cell_type": "code",
   "execution_count": 24,
   "metadata": {},
   "outputs": [],
   "source": [
    "# Saving the dataframe as pickle file\n",
    "save_path = '../data/processed/top_combined_data_borough.pkl'\n",
    "\n",
    "# Ensure the folder exists\n",
    "os.makedirs(os.path.dirname(save_path), exist_ok=True)\n",
    "\n",
    "# Save the DataFrame\n",
    "top_combined_data.to_pickle(save_path)"
   ]
  },
  {
   "cell_type": "markdown",
   "metadata": {},
   "source": [
    "## 10. Adding weather data for each borough"
   ]
  },
  {
   "cell_type": "markdown",
   "metadata": {},
   "source": [
    "- Weather data is added to enrich the dataset with environmental context relevant for analysis.\n",
    "- A single weather station is chosen because it provides complete and consistent data for the desired time period.\n",
    "- Using one station avoids complications from merging multiple sources with potential time or location mismatches.\n",
    "- The selected station represents the broader area adequately for the study’s purpose."
   ]
  },
  {
   "cell_type": "code",
   "execution_count": 25,
   "metadata": {},
   "outputs": [],
   "source": [
    "# Load the clustered data with the borough information\n",
    "top_combined_data = pd.read_pickle(save_path)"
   ]
  },
  {
   "cell_type": "code",
   "execution_count": 26,
   "metadata": {},
   "outputs": [
    {
     "name": "stdout",
     "output_type": "stream",
     "text": [
      "Missing temperature values: 0\n",
      "Missing precipitation values: 389863\n"
     ]
    }
   ],
   "source": [
    "# Define the date range\n",
    "start = pd.to_datetime(\"2014-04-01\")\n",
    "end = pd.to_datetime(\"2014-09-30\")\n",
    "\n",
    "# Station with available data (Teterboro Airport)\n",
    "station_id = 'KTEB0'\n",
    "\n",
    "# Fetch hourly weather data for the station and date range\n",
    "weather = Hourly(station_id, start, end).fetch().reset_index()\n",
    "\n",
    "# Prepare weather dataframe\n",
    "weather = weather[['time', 'temp', 'prcp']].copy()\n",
    "weather.rename(columns={\n",
    "    'time': 'messagetimestamp',\n",
    "    'temp': 'temperature_c',\n",
    "    'prcp': 'precipitation_mm'\n",
    "}, inplace=True)\n",
    "\n",
    "# Ensure timestamps are datetime and sorted\n",
    "top_combined_data['messagetimestamp'] = pd.to_datetime(top_combined_data['messagetimestamp'])\n",
    "top_combined_data = top_combined_data.sort_values('messagetimestamp')\n",
    "weather = weather.sort_values('messagetimestamp')\n",
    "\n",
    "# Merge_asof on messagetimestamp with backward direction (nearest past hour)\n",
    "top_combined_data = pd.merge_asof(\n",
    "    top_combined_data,\n",
    "    weather,\n",
    "    on='messagetimestamp',\n",
    "    direction='backward'\n",
    ")\n",
    "\n",
    "# Print number of missing values after merge\n",
    "print(\"Missing temperature values:\", top_combined_data['temperature_c'].isna().sum())\n",
    "print(\"Missing precipitation values:\", top_combined_data['precipitation_mm'].isna().sum())"
   ]
  },
  {
   "cell_type": "code",
   "execution_count": 27,
   "metadata": {},
   "outputs": [],
   "source": [
    "# Fill missing values\n",
    "# Precipitation missing values are filled with 0 because missing precipitation usually means no rain\n",
    "top_combined_data['precipitation_mm'] = top_combined_data['precipitation_mm'].fillna(0)"
   ]
  },
  {
   "cell_type": "code",
   "execution_count": 28,
   "metadata": {},
   "outputs": [
    {
     "data": {
      "text/html": [
       "<div>\n",
       "<style scoped>\n",
       "    .dataframe tbody tr th:only-of-type {\n",
       "        vertical-align: middle;\n",
       "    }\n",
       "\n",
       "    .dataframe tbody tr th {\n",
       "        vertical-align: top;\n",
       "    }\n",
       "\n",
       "    .dataframe thead th {\n",
       "        text-align: right;\n",
       "    }\n",
       "</style>\n",
       "<table border=\"1\" class=\"dataframe\">\n",
       "  <thead>\n",
       "    <tr style=\"text-align: right;\">\n",
       "      <th></th>\n",
       "      <th>messagetimestamp</th>\n",
       "      <th>Lat</th>\n",
       "      <th>Lon</th>\n",
       "      <th>Base</th>\n",
       "      <th>UTM_X</th>\n",
       "      <th>UTM_Y</th>\n",
       "      <th>hour</th>\n",
       "      <th>geo_cluster</th>\n",
       "      <th>dominant_borough</th>\n",
       "      <th>temperature_c</th>\n",
       "      <th>precipitation_mm</th>\n",
       "    </tr>\n",
       "  </thead>\n",
       "  <tbody>\n",
       "    <tr>\n",
       "      <th>0</th>\n",
       "      <td>2014-04-01 00:00:00</td>\n",
       "      <td>40.7637</td>\n",
       "      <td>-73.9600</td>\n",
       "      <td>B02598</td>\n",
       "      <td>587777.940478</td>\n",
       "      <td>4.513046e+06</td>\n",
       "      <td>0</td>\n",
       "      <td>2</td>\n",
       "      <td>Manhattan</td>\n",
       "      <td>11.7</td>\n",
       "      <td>0.0</td>\n",
       "    </tr>\n",
       "    <tr>\n",
       "      <th>1</th>\n",
       "      <td>2014-04-01 00:00:00</td>\n",
       "      <td>40.7188</td>\n",
       "      <td>-73.9863</td>\n",
       "      <td>B02598</td>\n",
       "      <td>585615.694367</td>\n",
       "      <td>4.508036e+06</td>\n",
       "      <td>0</td>\n",
       "      <td>8</td>\n",
       "      <td>Manhattan</td>\n",
       "      <td>11.7</td>\n",
       "      <td>0.0</td>\n",
       "    </tr>\n",
       "    <tr>\n",
       "      <th>2</th>\n",
       "      <td>2014-04-01 00:00:00</td>\n",
       "      <td>40.7215</td>\n",
       "      <td>-73.9952</td>\n",
       "      <td>B02682</td>\n",
       "      <td>584860.571737</td>\n",
       "      <td>4.508327e+06</td>\n",
       "      <td>0</td>\n",
       "      <td>8</td>\n",
       "      <td>Manhattan</td>\n",
       "      <td>11.7</td>\n",
       "      <td>0.0</td>\n",
       "    </tr>\n",
       "    <tr>\n",
       "      <th>3</th>\n",
       "      <td>2014-04-01 00:01:00</td>\n",
       "      <td>40.7355</td>\n",
       "      <td>-73.9966</td>\n",
       "      <td>B02617</td>\n",
       "      <td>584724.572854</td>\n",
       "      <td>4.509880e+06</td>\n",
       "      <td>0</td>\n",
       "      <td>0</td>\n",
       "      <td>Manhattan</td>\n",
       "      <td>11.7</td>\n",
       "      <td>0.0</td>\n",
       "    </tr>\n",
       "    <tr>\n",
       "      <th>4</th>\n",
       "      <td>2014-04-01 00:02:00</td>\n",
       "      <td>40.7184</td>\n",
       "      <td>-73.9601</td>\n",
       "      <td>B02682</td>\n",
       "      <td>587829.071998</td>\n",
       "      <td>4.508018e+06</td>\n",
       "      <td>0</td>\n",
       "      <td>9</td>\n",
       "      <td>Brooklyn</td>\n",
       "      <td>11.7</td>\n",
       "      <td>0.0</td>\n",
       "    </tr>\n",
       "  </tbody>\n",
       "</table>\n",
       "</div>"
      ],
      "text/plain": [
       "     messagetimestamp      Lat      Lon    Base          UTM_X         UTM_Y  \\\n",
       "0 2014-04-01 00:00:00  40.7637 -73.9600  B02598  587777.940478  4.513046e+06   \n",
       "1 2014-04-01 00:00:00  40.7188 -73.9863  B02598  585615.694367  4.508036e+06   \n",
       "2 2014-04-01 00:00:00  40.7215 -73.9952  B02682  584860.571737  4.508327e+06   \n",
       "3 2014-04-01 00:01:00  40.7355 -73.9966  B02617  584724.572854  4.509880e+06   \n",
       "4 2014-04-01 00:02:00  40.7184 -73.9601  B02682  587829.071998  4.508018e+06   \n",
       "\n",
       "   hour  geo_cluster dominant_borough  temperature_c  precipitation_mm  \n",
       "0     0            2        Manhattan           11.7               0.0  \n",
       "1     0            8        Manhattan           11.7               0.0  \n",
       "2     0            8        Manhattan           11.7               0.0  \n",
       "3     0            0        Manhattan           11.7               0.0  \n",
       "4     0            9         Brooklyn           11.7               0.0  "
      ]
     },
     "execution_count": 28,
     "metadata": {},
     "output_type": "execute_result"
    }
   ],
   "source": [
    "top_combined_data.head(5)"
   ]
  },
  {
   "cell_type": "markdown",
   "metadata": {},
   "source": [
    "## 11. Saving the cluster dfs for the cluster analysis"
   ]
  },
  {
   "cell_type": "code",
   "execution_count": 29,
   "metadata": {},
   "outputs": [
    {
     "data": {
      "text/html": [
       "<div>\n",
       "<style scoped>\n",
       "    .dataframe tbody tr th:only-of-type {\n",
       "        vertical-align: middle;\n",
       "    }\n",
       "\n",
       "    .dataframe tbody tr th {\n",
       "        vertical-align: top;\n",
       "    }\n",
       "\n",
       "    .dataframe thead th {\n",
       "        text-align: right;\n",
       "    }\n",
       "</style>\n",
       "<table border=\"1\" class=\"dataframe\">\n",
       "  <thead>\n",
       "    <tr style=\"text-align: right;\">\n",
       "      <th></th>\n",
       "      <th>messagetimestamp</th>\n",
       "      <th>Lat</th>\n",
       "      <th>Lon</th>\n",
       "      <th>Base</th>\n",
       "      <th>geo_cluster</th>\n",
       "      <th>dominant_borough</th>\n",
       "      <th>temperature_c</th>\n",
       "      <th>precipitation_mm</th>\n",
       "    </tr>\n",
       "  </thead>\n",
       "  <tbody>\n",
       "    <tr>\n",
       "      <th>0</th>\n",
       "      <td>2014-04-01 00:00:00</td>\n",
       "      <td>40.7637</td>\n",
       "      <td>-73.9600</td>\n",
       "      <td>B02598</td>\n",
       "      <td>2</td>\n",
       "      <td>Manhattan</td>\n",
       "      <td>11.7</td>\n",
       "      <td>0.0</td>\n",
       "    </tr>\n",
       "    <tr>\n",
       "      <th>1</th>\n",
       "      <td>2014-04-01 00:00:00</td>\n",
       "      <td>40.7188</td>\n",
       "      <td>-73.9863</td>\n",
       "      <td>B02598</td>\n",
       "      <td>8</td>\n",
       "      <td>Manhattan</td>\n",
       "      <td>11.7</td>\n",
       "      <td>0.0</td>\n",
       "    </tr>\n",
       "    <tr>\n",
       "      <th>2</th>\n",
       "      <td>2014-04-01 00:00:00</td>\n",
       "      <td>40.7215</td>\n",
       "      <td>-73.9952</td>\n",
       "      <td>B02682</td>\n",
       "      <td>8</td>\n",
       "      <td>Manhattan</td>\n",
       "      <td>11.7</td>\n",
       "      <td>0.0</td>\n",
       "    </tr>\n",
       "    <tr>\n",
       "      <th>3</th>\n",
       "      <td>2014-04-01 00:01:00</td>\n",
       "      <td>40.7355</td>\n",
       "      <td>-73.9966</td>\n",
       "      <td>B02617</td>\n",
       "      <td>0</td>\n",
       "      <td>Manhattan</td>\n",
       "      <td>11.7</td>\n",
       "      <td>0.0</td>\n",
       "    </tr>\n",
       "    <tr>\n",
       "      <th>4</th>\n",
       "      <td>2014-04-01 00:02:00</td>\n",
       "      <td>40.7184</td>\n",
       "      <td>-73.9601</td>\n",
       "      <td>B02682</td>\n",
       "      <td>9</td>\n",
       "      <td>Brooklyn</td>\n",
       "      <td>11.7</td>\n",
       "      <td>0.0</td>\n",
       "    </tr>\n",
       "  </tbody>\n",
       "</table>\n",
       "</div>"
      ],
      "text/plain": [
       "     messagetimestamp      Lat      Lon    Base  geo_cluster dominant_borough  \\\n",
       "0 2014-04-01 00:00:00  40.7637 -73.9600  B02598            2        Manhattan   \n",
       "1 2014-04-01 00:00:00  40.7188 -73.9863  B02598            8        Manhattan   \n",
       "2 2014-04-01 00:00:00  40.7215 -73.9952  B02682            8        Manhattan   \n",
       "3 2014-04-01 00:01:00  40.7355 -73.9966  B02617            0        Manhattan   \n",
       "4 2014-04-01 00:02:00  40.7184 -73.9601  B02682            9         Brooklyn   \n",
       "\n",
       "   temperature_c  precipitation_mm  \n",
       "0           11.7               0.0  \n",
       "1           11.7               0.0  \n",
       "2           11.7               0.0  \n",
       "3           11.7               0.0  \n",
       "4           11.7               0.0  "
      ]
     },
     "execution_count": 29,
     "metadata": {},
     "output_type": "execute_result"
    }
   ],
   "source": [
    "# Deleting all the unnecessary columns\n",
    "top_combined_data = top_combined_data[['messagetimestamp', 'Lat', 'Lon', 'Base', 'geo_cluster', 'dominant_borough','temperature_c','precipitation_mm']]\n",
    "top_combined_data.head()"
   ]
  },
  {
   "cell_type": "code",
   "execution_count": 30,
   "metadata": {},
   "outputs": [],
   "source": [
    "# Target directory to save the pickle files\n",
    "save_dir = \"../data/interim\"\n",
    "\n",
    "# Ensure the directory exists\n",
    "os.makedirs(save_dir, exist_ok=True)\n",
    "\n",
    "# Get all unique cluster IDs (sorted)\n",
    "cluster_ids = sorted(top_combined_data[\"geo_cluster\"].unique())\n",
    "\n",
    "# Save each cluster as a Pickle file\n",
    "for cluster_id in cluster_ids:\n",
    "    cluster_df = top_combined_data[top_combined_data[\"geo_cluster\"] == cluster_id]\n",
    "    \n",
    "    # Pickle file path\n",
    "    pkl_path = os.path.join(save_dir, f\"cluster_{cluster_id}.pkl\")\n",
    "    \n",
    "    # Save as Pickle\n",
    "    cluster_df.to_pickle(pkl_path)"
   ]
  },
  {
   "cell_type": "markdown",
   "metadata": {},
   "source": [
    "### 11. Preparing the datasets for the Forecasting"
   ]
  },
  {
   "cell_type": "code",
   "execution_count": 31,
   "metadata": {},
   "outputs": [
    {
     "name": "stdout",
     "output_type": "stream",
     "text": [
      "Saved: Cluster 0 → ../data/processed/forecast_cluster_0.csv\n",
      "Saved: Cluster 1 → ../data/processed/forecast_cluster_1.csv\n",
      "Saved: Cluster 2 → ../data/processed/forecast_cluster_2.csv\n",
      "Saved: Cluster 3 → ../data/processed/forecast_cluster_3.csv\n",
      "Saved: Cluster 4 → ../data/processed/forecast_cluster_4.csv\n",
      "Saved: Cluster 5 → ../data/processed/forecast_cluster_5.csv\n",
      "Saved: Cluster 6 → ../data/processed/forecast_cluster_6.csv\n",
      "Saved: Cluster 7 → ../data/processed/forecast_cluster_7.csv\n",
      "Saved: Cluster 8 → ../data/processed/forecast_cluster_8.csv\n",
      "Saved: Cluster 9 → ../data/processed/forecast_cluster_9.csv\n"
     ]
    }
   ],
   "source": [
    "# Only 'messagetimestamp' and 'geo_cluster' are retained, as all other columns are not needed \n",
    "# for the forecasting task. \n",
    "forecast_data = top_combined_data[['messagetimestamp', 'geo_cluster', 'temperature_c','precipitation_mm']].copy()\n",
    "\n",
    "# The dataset is split by 'geo_cluster' to allow separate forecasting models or analyses \n",
    "# to be performed for each spatial cluster.\n",
    "output_dir = \"../data/processed\"\n",
    "os.makedirs(output_dir, exist_ok=True)\n",
    "\n",
    "for cluster_id, df_cluster in forecast_data.groupby('geo_cluster'):\n",
    "    output_path = os.path.join(output_dir, f\"forecast_cluster_{cluster_id}.csv\")\n",
    "    df_cluster.to_csv(output_path, index=False)\n",
    "    print(f\"Saved: Cluster {cluster_id} → {output_path}\")"
   ]
  }
 ],
 "metadata": {
  "kernelspec": {
   "display_name": "venv",
   "language": "python",
   "name": "python3"
  },
  "language_info": {
   "codemirror_mode": {
    "name": "ipython",
    "version": 3
   },
   "file_extension": ".py",
   "mimetype": "text/x-python",
   "name": "python",
   "nbconvert_exporter": "python",
   "pygments_lexer": "ipython3",
   "version": "3.9.6"
  }
 },
 "nbformat": 4,
 "nbformat_minor": 2
}
